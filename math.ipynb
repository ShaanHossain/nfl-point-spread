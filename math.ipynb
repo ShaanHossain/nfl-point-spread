{
 "cells": [
  {
   "cell_type": "code",
   "execution_count": null,
   "metadata": {},
   "outputs": [],
   "source": [
    "import numpy\n",
    "import matplotlib\n"
   ]
  }
 ],
 "metadata": {
  "kernelspec": {
   "display_name": "Python 3.9.13 ('.venv': venv)",
   "language": "python",
   "name": "python3"
  },
  "language_info": {
   "name": "python",
   "version": "3.9.13"
  },
  "orig_nbformat": 4,
  "vscode": {
   "interpreter": {
    "hash": "f12acf9b556c7408a92fd40ffb07d79a64567d0f2fc8942eb7116d52a43e72cd"
   }
  }
 },
 "nbformat": 4,
 "nbformat_minor": 2
}
